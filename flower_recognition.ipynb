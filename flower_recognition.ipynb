{
 "cells": [
  {
   "cell_type": "code",
   "execution_count": null,
   "metadata": {},
   "outputs": [],
   "source": [
    "#importing library"
   ]
  },
  {
   "cell_type": "code",
   "execution_count": 1,
   "metadata": {},
   "outputs": [],
   "source": [
    "import numpy as np\n",
    "import tensorflow as tf\n",
    "from keras.preprocessing.image import ImageDataGenerator"
   ]
  },
  {
   "cell_type": "code",
   "execution_count": null,
   "metadata": {},
   "outputs": [],
   "source": [
    "#cek version tensorflow"
   ]
  },
  {
   "cell_type": "code",
   "execution_count": 2,
   "metadata": {},
   "outputs": [
    {
     "data": {
      "text/plain": [
       "'2.15.0'"
      ]
     },
     "execution_count": 2,
     "metadata": {},
     "output_type": "execute_result"
    }
   ],
   "source": [
    "tf.__version__"
   ]
  },
  {
   "cell_type": "code",
   "execution_count": null,
   "metadata": {},
   "outputs": [],
   "source": [
    "#train image processing"
   ]
  },
  {
   "cell_type": "code",
   "execution_count": 6,
   "metadata": {},
   "outputs": [
    {
     "name": "stdout",
     "output_type": "stream",
     "text": [
      "Found 3409 images belonging to 5 classes.\n"
     ]
    }
   ],
   "source": [
    "train_datagen = ImageDataGenerator(\n",
    "        rescale=1./255,\n",
    "        shear_range=0.2,\n",
    "        zoom_range=0.2,\n",
    "        horizontal_flip=True)\n",
    "training_set = train_datagen.flow_from_directory(\n",
    "        'training_set',\n",
    "        target_size=(64, 64),\n",
    "        batch_size=32,\n",
    "        class_mode='categorical')"
   ]
  },
  {
   "cell_type": "code",
   "execution_count": null,
   "metadata": {},
   "outputs": [],
   "source": [
    "#test image processing"
   ]
  },
  {
   "cell_type": "code",
   "execution_count": 5,
   "metadata": {},
   "outputs": [
    {
     "name": "stdout",
     "output_type": "stream",
     "text": [
      "Found 1944 images belonging to 5 classes.\n"
     ]
    }
   ],
   "source": [
    "test_datagen = ImageDataGenerator(rescale=1./255)\n",
    "test_set = test_datagen.flow_from_directory(\n",
    "        'test_set',\n",
    "        target_size=(64, 64),\n",
    "        batch_size=32,\n",
    "        class_mode='categorical')"
   ]
  },
  {
   "cell_type": "code",
   "execution_count": null,
   "metadata": {},
   "outputs": [],
   "source": [
    "#Building Model"
   ]
  },
  {
   "cell_type": "code",
   "execution_count": 7,
   "metadata": {},
   "outputs": [],
   "source": [
    "cnn = tf.keras.models.Sequential()"
   ]
  },
  {
   "cell_type": "code",
   "execution_count": null,
   "metadata": {},
   "outputs": [],
   "source": [
    "#Building Convolution Layer"
   ]
  },
  {
   "cell_type": "code",
   "execution_count": 8,
   "metadata": {},
   "outputs": [],
   "source": [
    "cnn.add(tf.keras.layers.Conv2D(filters=64 , kernel_size=3 , activation='relu' , input_shape=[64,64,3]))\n",
    "cnn.add(tf.keras.layers.MaxPool2D(pool_size=2,strides=2))"
   ]
  },
  {
   "cell_type": "code",
   "execution_count": 9,
   "metadata": {},
   "outputs": [],
   "source": [
    "cnn.add(tf.keras.layers.Conv2D(filters=64 , kernel_size=3 , activation='relu' ))\n",
    "cnn.add(tf.keras.layers.MaxPool2D(pool_size=2 , strides=2))"
   ]
  },
  {
   "cell_type": "code",
   "execution_count": 10,
   "metadata": {},
   "outputs": [],
   "source": [
    "cnn.add(tf.keras.layers.Dropout(0.5))"
   ]
  },
  {
   "cell_type": "code",
   "execution_count": 11,
   "metadata": {},
   "outputs": [],
   "source": [
    "cnn.add(tf.keras.layers.Flatten())"
   ]
  },
  {
   "cell_type": "code",
   "execution_count": 12,
   "metadata": {},
   "outputs": [],
   "source": [
    "cnn.add(tf.keras.layers.Dense(units=128, activation='relu'))"
   ]
  },
  {
   "cell_type": "code",
   "execution_count": 13,
   "metadata": {},
   "outputs": [],
   "source": [
    "cnn.add(tf.keras.layers.Dense(units=5 , activation='softmax'))"
   ]
  },
  {
   "cell_type": "code",
   "execution_count": 14,
   "metadata": {},
   "outputs": [],
   "source": [
    "cnn.compile(optimizer = 'rmsprop' , loss = 'categorical_crossentropy' , metrics = ['accuracy'])"
   ]
  },
  {
   "cell_type": "code",
   "execution_count": 15,
   "metadata": {
    "scrolled": false
   },
   "outputs": [
    {
     "name": "stdout",
     "output_type": "stream",
     "text": [
      "Epoch 1/30\n",
      "107/107 [==============================] - 12s 106ms/step - loss: 1.3667 - accuracy: 0.4327 - val_loss: 1.0478 - val_accuracy: 0.5772\n",
      "Epoch 2/30\n",
      "107/107 [==============================] - 11s 104ms/step - loss: 1.1087 - accuracy: 0.5474 - val_loss: 1.0053 - val_accuracy: 0.6188\n",
      "Epoch 3/30\n",
      "107/107 [==============================] - 11s 103ms/step - loss: 1.0089 - accuracy: 0.6043 - val_loss: 0.9630 - val_accuracy: 0.6276\n",
      "Epoch 4/30\n",
      "107/107 [==============================] - 11s 107ms/step - loss: 0.9356 - accuracy: 0.6357 - val_loss: 0.8848 - val_accuracy: 0.6590\n",
      "Epoch 5/30\n",
      "107/107 [==============================] - 12s 108ms/step - loss: 0.8808 - accuracy: 0.6671 - val_loss: 0.6799 - val_accuracy: 0.7572\n",
      "Epoch 6/30\n",
      "107/107 [==============================] - 12s 108ms/step - loss: 0.8319 - accuracy: 0.6785 - val_loss: 0.6845 - val_accuracy: 0.7546\n",
      "Epoch 7/30\n",
      "107/107 [==============================] - 12s 112ms/step - loss: 0.7975 - accuracy: 0.6882 - val_loss: 0.8711 - val_accuracy: 0.6574\n",
      "Epoch 8/30\n",
      "107/107 [==============================] - 11s 105ms/step - loss: 0.7638 - accuracy: 0.7072 - val_loss: 0.7455 - val_accuracy: 0.7217\n",
      "Epoch 9/30\n",
      "107/107 [==============================] - 11s 106ms/step - loss: 0.7380 - accuracy: 0.7199 - val_loss: 0.6232 - val_accuracy: 0.7737\n",
      "Epoch 10/30\n",
      "107/107 [==============================] - 11s 105ms/step - loss: 0.7104 - accuracy: 0.7243 - val_loss: 0.6312 - val_accuracy: 0.7649\n",
      "Epoch 11/30\n",
      "107/107 [==============================] - 11s 105ms/step - loss: 0.7086 - accuracy: 0.7354 - val_loss: 0.5665 - val_accuracy: 0.7953\n",
      "Epoch 12/30\n",
      "107/107 [==============================] - 12s 110ms/step - loss: 0.6645 - accuracy: 0.7586 - val_loss: 0.5783 - val_accuracy: 0.7881\n",
      "Epoch 13/30\n",
      "107/107 [==============================] - 12s 111ms/step - loss: 0.6565 - accuracy: 0.7495 - val_loss: 0.5659 - val_accuracy: 0.7953\n",
      "Epoch 14/30\n",
      "107/107 [==============================] - 12s 114ms/step - loss: 0.6340 - accuracy: 0.7586 - val_loss: 0.5579 - val_accuracy: 0.7989\n",
      "Epoch 15/30\n",
      "107/107 [==============================] - 12s 109ms/step - loss: 0.6140 - accuracy: 0.7718 - val_loss: 0.5246 - val_accuracy: 0.8179\n",
      "Epoch 16/30\n",
      "107/107 [==============================] - 12s 116ms/step - loss: 0.5910 - accuracy: 0.7759 - val_loss: 0.5220 - val_accuracy: 0.8153\n",
      "Epoch 17/30\n",
      "107/107 [==============================] - 12s 109ms/step - loss: 0.5594 - accuracy: 0.7906 - val_loss: 0.5994 - val_accuracy: 0.7906\n",
      "Epoch 18/30\n",
      "107/107 [==============================] - 12s 111ms/step - loss: 0.5627 - accuracy: 0.7911 - val_loss: 0.5442 - val_accuracy: 0.8030\n",
      "Epoch 19/30\n",
      "107/107 [==============================] - 12s 110ms/step - loss: 0.5643 - accuracy: 0.7967 - val_loss: 0.5664 - val_accuracy: 0.8014\n",
      "Epoch 20/30\n",
      "107/107 [==============================] - 12s 116ms/step - loss: 0.5297 - accuracy: 0.8055 - val_loss: 0.5258 - val_accuracy: 0.8200\n",
      "Epoch 21/30\n",
      "107/107 [==============================] - 14s 127ms/step - loss: 0.5036 - accuracy: 0.8161 - val_loss: 0.5642 - val_accuracy: 0.8097\n",
      "Epoch 22/30\n",
      "107/107 [==============================] - 14s 127ms/step - loss: 0.5201 - accuracy: 0.8076 - val_loss: 0.5152 - val_accuracy: 0.8272\n",
      "Epoch 23/30\n",
      "107/107 [==============================] - 13s 120ms/step - loss: 0.4876 - accuracy: 0.8225 - val_loss: 0.5374 - val_accuracy: 0.8210\n",
      "Epoch 24/30\n",
      "107/107 [==============================] - 12s 111ms/step - loss: 0.4854 - accuracy: 0.8208 - val_loss: 0.4972 - val_accuracy: 0.8380\n",
      "Epoch 25/30\n",
      "107/107 [==============================] - 12s 114ms/step - loss: 0.4692 - accuracy: 0.8175 - val_loss: 0.5771 - val_accuracy: 0.8050\n",
      "Epoch 26/30\n",
      "107/107 [==============================] - 13s 123ms/step - loss: 0.4676 - accuracy: 0.8348 - val_loss: 0.5567 - val_accuracy: 0.8174\n",
      "Epoch 27/30\n",
      "107/107 [==============================] - 13s 121ms/step - loss: 0.4435 - accuracy: 0.8369 - val_loss: 0.5025 - val_accuracy: 0.8498\n",
      "Epoch 28/30\n",
      "107/107 [==============================] - 13s 120ms/step - loss: 0.4461 - accuracy: 0.8413 - val_loss: 0.5209 - val_accuracy: 0.8400\n",
      "Epoch 29/30\n",
      "107/107 [==============================] - 12s 116ms/step - loss: 0.4410 - accuracy: 0.8410 - val_loss: 0.5400 - val_accuracy: 0.8287\n",
      "Epoch 30/30\n",
      "107/107 [==============================] - 14s 129ms/step - loss: 0.4318 - accuracy: 0.8451 - val_loss: 0.5070 - val_accuracy: 0.8452\n"
     ]
    },
    {
     "data": {
      "text/plain": [
       "<keras.src.callbacks.History at 0x165f4d590>"
      ]
     },
     "execution_count": 15,
     "metadata": {},
     "output_type": "execute_result"
    }
   ],
   "source": [
    "cnn.fit(x = training_set , validation_data = test_set , epochs = 30)"
   ]
  },
  {
   "cell_type": "code",
   "execution_count": null,
   "metadata": {},
   "outputs": [],
   "source": [
    "#Preprocessing New Image"
   ]
  },
  {
   "cell_type": "code",
   "execution_count": 38,
   "metadata": {
    "scrolled": true
   },
   "outputs": [
    {
     "name": "stdout",
     "output_type": "stream",
     "text": [
      "1/1 [==============================] - 0s 15ms/step\n",
      "[[0. 0. 0. 1. 0.]]\n"
     ]
    },
    {
     "data": {
      "text/plain": [
       "<matplotlib.image.AxesImage at 0x16b987850>"
      ]
     },
     "execution_count": 38,
     "metadata": {},
     "output_type": "execute_result"
    },
    {
     "data": {
      "image/png": "[encoded data removed]",
      "text/plain": [
       "<Figure size 640x480 with 1 Axes>"
      ]
     },
     "metadata": {},
     "output_type": "display_data"
    }
   ],
   "source": [
    "from keras.preprocessing import image\n",
    "\n",
    "ori_image = image.load_img('Prediction/Unknown.jpeg',target_size=(64,64))\n",
    "test_image = image.img_to_array(ori_image)\n",
    "test_image = np.expand_dims(test_image,axis=0)\n",
    "result = cnn.predict(test_image)\n",
    "training_set.class_indices\n",
    "print(result)\n",
    "plt.imshow(ori_image)"
   ]
  },
  {
   "cell_type": "code",
   "execution_count": null,
   "metadata": {},
   "outputs": [],
   "source": [
    "#cek"
   ]
  },
  {
   "cell_type": "code",
   "execution_count": 33,
   "metadata": {},
   "outputs": [
    {
     "name": "stdout",
     "output_type": "stream",
     "text": [
      "SunFlower\n"
     ]
    }
   ],
   "source": [
    "if result[0][0]==1:\n",
    "    print('Daisy')\n",
    "elif result[0][1]==1:\n",
    "    print('Dandelion')\n",
    "elif result[0][2]==1:\n",
    "    print('Rose')\n",
    "elif result[0][3]==1:\n",
    "    print('SunFlower')\n",
    "elif result[0][4]==1:\n",
    "    print(\"Tulip\")"
   ]
  },
  {
   "cell_type": "code",
   "execution_count": 21,
   "metadata": {},
   "outputs": [
    {
     "name": "stdout",
     "output_type": "stream",
     "text": [
      "[[0. 0. 0. 1. 0.]]\n"
     ]
    }
   ],
   "source": [
    "print(result)"
   ]
  },
  {
   "cell_type": "code",
   "execution_count": null,
   "metadata": {},
   "outputs": [],
   "source": []
  }
 ],
 "metadata": {
  "kernelspec": {
   "display_name": "Python 3 (ipykernel)",
   "language": "python",
   "name": "python3"
  },
  "language_info": {
   "codemirror_mode": {
    "name": "ipython",
    "version": 3
   },
   "file_extension": ".py",
   "mimetype": "text/x-python",
   "name": "python",
   "nbconvert_exporter": "python",
   "pygments_lexer": "ipython3",
   "version": "3.11.4"
  }
 },
 "nbformat": 4,
 "nbformat_minor": 4
}
